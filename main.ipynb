{
 "cells": [
  {
   "cell_type": "code",
   "execution_count": 47,
   "metadata": {},
   "outputs": [],
   "source": [
    "# import random\n",
    "\n",
    "#number = random.randint(1,10);\n",
    "#print(\"Угадайте число, которое загадал компьютер от 1 до 10\");\n",
    "#print(number)"
   ]
  },
  {
   "cell_type": "code",
   "execution_count": 48,
   "metadata": {},
   "outputs": [],
   "source": [
    "#print(\"Выше число:\");\n",
    "#user_number = int(input())"
   ]
  },
  {
   "cell_type": "code",
   "execution_count": 49,
   "metadata": {},
   "outputs": [],
   "source": [
    "#if number > user_number:\n",
    "#    print(\"Число компьютера больше\");\n",
    "#elif number < user_number:\n",
    "#   print(\"Число компьютера меньше\");\n",
    "#elif number == user_number:\n",
    "#    print(\"Поздравляю, Вы угадали число\");   "
   ]
  },
  {
   "cell_type": "markdown",
   "metadata": {},
   "source": [
    "import dis\n",
    "import gc\n"
   ]
  },
  {
   "cell_type": "code",
   "execution_count": 50,
   "metadata": {},
   "outputs": [],
   "source": [
    "# def gen():\n",
    "#     for i in range(10):\n",
    "#         yield i\n",
    "\n",
    "# a = gen()\n",
    "# print(a)"
   ]
  },
  {
   "cell_type": "code",
   "execution_count": 51,
   "metadata": {},
   "outputs": [],
   "source": [
    "# import functools\n",
    "\n",
    "# def sum_list(func):\n",
    "#     @functools.wraps(func)\n",
    "#     def wrapper(*args, **kwargs):\n",
    "#         for e in len(args):\n",
    "            \n",
    "        \n",
    "        \n",
    "        \n",
    "        \n",
    "#         if type(args[0]) == int or type(args[0]) == float:\n",
    "#             return func(*args, **kwargs)\n",
    "        \n",
    "#         if isinstance(args[0], list):\n",
    "            \n",
    "#         if len(args[0]) != len(args[1]):\n",
    "#             raise ValueError('Lists must be same size')\n",
    "#         result = []\n",
    "#         size = len(args[0])\n",
    "#         i = 0\n",
    "#         while i < size:\n",
    "#             result.append(func(args[0][i], args[1][i]))\n",
    "#             i = i + 1\n",
    "#         return result\n",
    "#     return wrapper"
   ]
  },
  {
   "cell_type": "code",
   "execution_count": 52,
   "metadata": {},
   "outputs": [],
   "source": [
    "\n",
    "# @sum_list\n",
    "# def sum(a,b,**kwargs):\n",
    "#     return a+b\n",
    "\n",
    "# sum(1,2, test=True, test2='ok')"
   ]
  },
  {
   "cell_type": "code",
   "execution_count": 53,
   "metadata": {},
   "outputs": [],
   "source": [
    "# sum([1,2,3], [4,5,6])"
   ]
  },
  {
   "cell_type": "code",
   "execution_count": 54,
   "metadata": {},
   "outputs": [],
   "source": [
    "\n",
    "# rList = lambda p: [i**p for i in range(10)]\n",
    "\n",
    "# rList(2)"
   ]
  },
  {
   "cell_type": "code",
   "execution_count": 60,
   "metadata": {},
   "outputs": [
    {
     "data": {
      "text/plain": [
       "[0, 1, 4, 9, 16, 25, 36, 49, 64, 81]"
      ]
     },
     "execution_count": 60,
     "metadata": {},
     "output_type": "execute_result"
    }
   ],
   "source": [
    "l1 = range(10)\n",
    "p = 2\n",
    "list(map(lambda x: x**2, l1))"
   ]
  },
  {
   "cell_type": "code",
   "execution_count": 61,
   "metadata": {},
   "outputs": [
    {
     "data": {
      "text/plain": [
       "45"
      ]
     },
     "execution_count": 61,
     "metadata": {},
     "output_type": "execute_result"
    }
   ],
   "source": [
    "from functools import reduce\n",
    "\n",
    "reduce(lambda prev, curr: prev+curr, l1)"
   ]
  }
 ],
 "metadata": {
  "kernelspec": {
   "display_name": "Python 3",
   "language": "python",
   "name": "python3"
  },
  "language_info": {
   "codemirror_mode": {
    "name": "ipython",
    "version": 3
   },
   "file_extension": ".py",
   "mimetype": "text/x-python",
   "name": "python",
   "nbconvert_exporter": "python",
   "pygments_lexer": "ipython3",
   "version": "3.12.1"
  }
 },
 "nbformat": 4,
 "nbformat_minor": 2
}
