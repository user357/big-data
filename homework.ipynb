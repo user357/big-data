{
 "cells": [
  {
   "cell_type": "markdown",
   "metadata": {},
   "source": [
    "Домашнее задание 1"
   ]
  },
  {
   "cell_type": "code",
   "execution_count": 121,
   "metadata": {},
   "outputs": [
    {
     "data": {
      "text/plain": [
       "6"
      ]
     },
     "execution_count": 121,
     "metadata": {},
     "output_type": "execute_result"
    }
   ],
   "source": [
    "# ДЗ\n",
    "def sum(*args):\n",
    "    result = 0\n",
    "    for x in args:\n",
    "        result += x\n",
    "    return result\n",
    "\n",
    "sum(2,2,2)"
   ]
  },
  {
   "cell_type": "markdown",
   "metadata": {},
   "source": [
    "Домашнее задание 2"
   ]
  },
  {
   "cell_type": "code",
   "execution_count": 122,
   "metadata": {},
   "outputs": [],
   "source": [
    "import functools\n",
    "\n",
    "\n",
    "def sum_list(func):\n",
    "    @functools.wraps(func)\n",
    "    def wrapper(*args, **kwargs):\n",
    "        # Проверяем что бы аргументов было больше 2\n",
    "        if len(args) < 2:\n",
    "            raise ValueError('Must be 2 lists!')\n",
    "        # Проверяем тип данных, если он int или float то пропускаем\n",
    "        if all(isinstance(x, (int, float)) for x in args):\n",
    "            return func(*args, **kwargs)\n",
    "        else:\n",
    "            result = []\n",
    "            size = len(args) \n",
    "            # Суммируем первые два элемента\n",
    "            a = args[0]\n",
    "            b = args[1]\n",
    "            result = [x+y for x,y in zip(a,b)] + (a if len(a) >= len(b) else b)[min(len(a), len(b)):]\n",
    "            i = 2\n",
    "            # Суммируем остальные элементы\n",
    "            while i < size:\n",
    "                a = result\n",
    "                b = args[i]\n",
    "                result = [x+y for x,y in zip(a,b)] + (a if len(a) >= len(b) else b)[min(len(a), len(b)):]\n",
    "                i = i + 1\n",
    "            return result\n",
    "    return wrapper\n"
   ]
  },
  {
   "cell_type": "code",
   "execution_count": 123,
   "metadata": {},
   "outputs": [
    {
     "data": {
      "text/plain": [
       "3"
      ]
     },
     "execution_count": 123,
     "metadata": {},
     "output_type": "execute_result"
    }
   ],
   "source": [
    "@sum_list\n",
    "def sum(a,b,**kwargs):\n",
    "    return a+b\n",
    "\n",
    "sum(1,2, test=True, test2='ok')"
   ]
  },
  {
   "cell_type": "code",
   "execution_count": 124,
   "metadata": {},
   "outputs": [
    {
     "data": {
      "text/plain": [
       "[5, 7, 9]"
      ]
     },
     "execution_count": 124,
     "metadata": {},
     "output_type": "execute_result"
    }
   ],
   "source": [
    "sum([1,2,3], [4,5,6])"
   ]
  },
  {
   "cell_type": "code",
   "execution_count": 125,
   "metadata": {},
   "outputs": [
    {
     "data": {
      "text/plain": [
       "[6, 7, 9, 9]"
      ]
     },
     "execution_count": 125,
     "metadata": {},
     "output_type": "execute_result"
    }
   ],
   "source": [
    "sum([1,2,3], [4,5,6,9],[1])"
   ]
  },
  {
   "cell_type": "code",
   "execution_count": 126,
   "metadata": {},
   "outputs": [
    {
     "data": {
      "text/plain": [
       "[6, 7, 9, 10]"
      ]
     },
     "execution_count": 126,
     "metadata": {},
     "output_type": "execute_result"
    }
   ],
   "source": [
    "sum([1,2,3], [4,5,6,9],[1],[0,0,0,1])"
   ]
  },
  {
   "cell_type": "code",
   "execution_count": 145,
   "metadata": {},
   "outputs": [],
   "source": [
    "import functools\n",
    "\n",
    "dict = {}\n",
    "\n",
    "class Animal:\n",
    "    def check_name(func):\n",
    "        @functools.wraps(func)\n",
    "        def wrapper(*args, **kwargs):\n",
    "            if args in dict:\n",
    "                print('I\\'ve already great you!')\n",
    "            else:\n",
    "                result = func(*args, **kwargs)\n",
    "                dict[args] = args\n",
    "                return result\n",
    "        return wrapper\n",
    "    \n",
    "    def test(self):\n",
    "        pass\n",
    "    @check_name\n",
    "    def great(self, name):\n",
    "        self.test()\n",
    "        print(f'Hello, I\\'m animal {name}') "
   ]
  },
  {
   "cell_type": "code",
   "execution_count": 146,
   "metadata": {},
   "outputs": [
    {
     "name": "stdout",
     "output_type": "stream",
     "text": [
      "Hello, I'm animal 123\n",
      "Hello, I'm animal 123\n"
     ]
    }
   ],
   "source": [
    "bird = Animal()        \n",
    "Animal.great(bird, '123')\n",
    "Animal.great(bird, '123')"
   ]
  }
 ],
 "metadata": {
  "kernelspec": {
   "display_name": "Python 3",
   "language": "python",
   "name": "python3"
  },
  "language_info": {
   "codemirror_mode": {
    "name": "ipython",
    "version": 3
   },
   "file_extension": ".py",
   "mimetype": "text/x-python",
   "name": "python",
   "nbconvert_exporter": "python",
   "pygments_lexer": "ipython3",
   "version": "3.12.1"
  }
 },
 "nbformat": 4,
 "nbformat_minor": 2
}
